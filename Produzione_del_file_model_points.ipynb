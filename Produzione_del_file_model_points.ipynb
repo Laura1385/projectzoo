{
 "cells": [
  {
   "cell_type": "markdown",
   "id": "bfd041c0",
   "metadata": {},
   "source": [
    "## Produzione_del_file_model_points.csv"
   ]
  },
  {
   "cell_type": "code",
   "execution_count": null,
   "id": "c58ccceb",
   "metadata": {},
   "outputs": [],
   "source": [
    "import numpy as np\n",
    "import pandas as pd\n",
    "import sklearn"
   ]
  },
  {
   "cell_type": "code",
   "execution_count": null,
   "id": "f66fe5b1",
   "metadata": {},
   "outputs": [],
   "source": [
    "db0 = pd.read_csv('db_zoo_noclass_ohelegs.csv')"
   ]
  },
  {
   "cell_type": "code",
   "execution_count": null,
   "id": "b1af0f96",
   "metadata": {},
   "outputs": [],
   "source": [
    "pd.set_option('display.max_rows', 500)\n",
    "pd.set_option('display.max_columns', 50)\n",
    "#pd.set_option(\"max_rows\", None)\n",
    "#pd.reset_option(“max_rows”)"
   ]
  },
  {
   "cell_type": "code",
   "execution_count": null,
   "id": "17bf71c9",
   "metadata": {},
   "outputs": [],
   "source": [
    "db0 # solo per check"
   ]
  },
  {
   "cell_type": "code",
   "execution_count": null,
   "id": "84eabda6",
   "metadata": {},
   "outputs": [],
   "source": [
    "db0.info() # solo per check"
   ]
  },
  {
   "cell_type": "code",
   "execution_count": null,
   "id": "4a37a1b0",
   "metadata": {},
   "outputs": [],
   "source": [
    "db0.dtypes # solo per check"
   ]
  },
  {
   "cell_type": "code",
   "execution_count": null,
   "id": "dc94842f",
   "metadata": {},
   "outputs": [],
   "source": [
    "column_names = [x for x in db0.columns[1:]] # solo per check"
   ]
  },
  {
   "cell_type": "code",
   "execution_count": null,
   "id": "f101d2e5",
   "metadata": {},
   "outputs": [],
   "source": [
    "column_names # solo per check"
   ]
  },
  {
   "cell_type": "code",
   "execution_count": null,
   "id": "80b793d7",
   "metadata": {},
   "outputs": [],
   "source": [
    "db0.columns.get_loc('hair')-1  # solo per check"
   ]
  },
  {
   "cell_type": "code",
   "execution_count": null,
   "id": "829bc42a",
   "metadata": {},
   "outputs": [],
   "source": [
    "db0.columns.get_loc('feathers')-1  # solo per check"
   ]
  },
  {
   "cell_type": "code",
   "execution_count": null,
   "id": "224c16ca",
   "metadata": {},
   "outputs": [],
   "source": [
    "db0['base10'] = 0\n",
    "for i in column_names:\n",
    "    power = db0[i]*2**(db0.columns.get_loc(i)-1)\n",
    "    db0['base10'] += power"
   ]
  },
  {
   "cell_type": "code",
   "execution_count": null,
   "id": "fbac8b62",
   "metadata": {},
   "outputs": [],
   "source": [
    "db0.sort_values(by='base10') # solo per check"
   ]
  },
  {
   "cell_type": "code",
   "execution_count": null,
   "id": "cb9b5aa1",
   "metadata": {},
   "outputs": [],
   "source": [
    "db0_df = pd.DataFrame(db0)"
   ]
  },
  {
   "cell_type": "code",
   "execution_count": null,
   "id": "d40d63fb",
   "metadata": {},
   "outputs": [],
   "source": [
    "db0_df # solo per check"
   ]
  },
  {
   "cell_type": "code",
   "execution_count": null,
   "id": "ad783dc4",
   "metadata": {},
   "outputs": [],
   "source": [
    "db0_df_grouped = db0_df.groupby('base10').mean()"
   ]
  },
  {
   "cell_type": "code",
   "execution_count": null,
   "id": "a877e0bf",
   "metadata": {
    "scrolled": true
   },
   "outputs": [],
   "source": [
    "db0_df_grouped # solo per check"
   ]
  },
  {
   "cell_type": "code",
   "execution_count": null,
   "id": "1feb853e",
   "metadata": {},
   "outputs": [],
   "source": [
    "db0_df_grouped.info() # solo per check"
   ]
  },
  {
   "cell_type": "code",
   "execution_count": null,
   "id": "d3c186d5",
   "metadata": {},
   "outputs": [],
   "source": [
    "db0_df_grouped.columns # solo per check"
   ]
  },
  {
   "cell_type": "code",
   "execution_count": null,
   "id": "2785192c",
   "metadata": {},
   "outputs": [],
   "source": [
    "# model_points = db0_df_grouped.drop(columns=['Unnamed: 0']) #in versione prec. c'era colonna \"Unnamed\"!!"
   ]
  },
  {
   "cell_type": "code",
   "execution_count": null,
   "id": "177c341e",
   "metadata": {},
   "outputs": [],
   "source": [
    "model_points = db0_df_grouped"
   ]
  },
  {
   "cell_type": "code",
   "execution_count": null,
   "id": "cd8f6cad",
   "metadata": {},
   "outputs": [],
   "source": [
    "model_points.info() # solo per check"
   ]
  },
  {
   "cell_type": "code",
   "execution_count": null,
   "id": "8c873bbc",
   "metadata": {},
   "outputs": [],
   "source": [
    "model_points.to_csv('model_points_withbase10.csv')"
   ]
  },
  {
   "cell_type": "code",
   "execution_count": null,
   "id": "a350a4e8",
   "metadata": {},
   "outputs": [],
   "source": [
    "model_points.to_csv('model_points_nobase10.csv', index=False)"
   ]
  }
 ],
 "metadata": {
  "kernelspec": {
   "display_name": "Python 3 (ipykernel)",
   "language": "python",
   "name": "python3"
  },
  "language_info": {
   "codemirror_mode": {
    "name": "ipython",
    "version": 3
   },
   "file_extension": ".py",
   "mimetype": "text/x-python",
   "name": "python",
   "nbconvert_exporter": "python",
   "pygments_lexer": "ipython3",
   "version": "3.9.13"
  }
 },
 "nbformat": 4,
 "nbformat_minor": 5
}
