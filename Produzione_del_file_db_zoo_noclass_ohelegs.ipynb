{
 "cells": [
  {
   "cell_type": "markdown",
   "id": "bfd041c0",
   "metadata": {},
   "source": [
    "## Produzione del file db_zoo_noclass_ohelegs.csv"
   ]
  },
  {
   "cell_type": "code",
   "execution_count": null,
   "id": "c58ccceb",
   "metadata": {},
   "outputs": [],
   "source": [
    "import numpy as np\n",
    "import pandas as pd\n",
    "import sklearn\n",
    "from sklearn.preprocessing import OneHotEncoder"
   ]
  },
  {
   "cell_type": "code",
   "execution_count": null,
   "id": "f66fe5b1",
   "metadata": {},
   "outputs": [],
   "source": [
    "db_zoo = pd.read_csv('zoo.csv')"
   ]
  },
  {
   "cell_type": "code",
   "execution_count": null,
   "id": "17bf71c9",
   "metadata": {},
   "outputs": [],
   "source": [
    "db_zoo # solo per check"
   ]
  },
  {
   "cell_type": "code",
   "execution_count": null,
   "id": "84eabda6",
   "metadata": {},
   "outputs": [],
   "source": [
    "db_zoo.info() # solo per check"
   ]
  },
  {
   "cell_type": "code",
   "execution_count": null,
   "id": "f62da38e",
   "metadata": {},
   "outputs": [],
   "source": [
    "db_zoo_noclass = db_zoo.drop('class_type', axis=1)"
   ]
  },
  {
   "cell_type": "code",
   "execution_count": null,
   "id": "ccf7746e",
   "metadata": {},
   "outputs": [],
   "source": [
    "db_zoo_noclass # solo per check"
   ]
  },
  {
   "cell_type": "code",
   "execution_count": null,
   "id": "74953fdc",
   "metadata": {},
   "outputs": [],
   "source": [
    "ohe_legs = OneHotEncoder()\n",
    "temp = ohe_legs.fit_transform(db_zoo_noclass[['legs']]).toarray()\n",
    "names = ohe_legs.get_feature_names_out()\n",
    "db_zoo_noclass[list(names)] = temp"
   ]
  },
  {
   "cell_type": "code",
   "execution_count": null,
   "id": "d63f0945",
   "metadata": {},
   "outputs": [],
   "source": [
    "db_zoo_noclass # solo per check"
   ]
  },
  {
   "cell_type": "code",
   "execution_count": null,
   "id": "6ceba446",
   "metadata": {},
   "outputs": [],
   "source": [
    "db_zoo_noclass.info() # solo per check"
   ]
  },
  {
   "cell_type": "markdown",
   "id": "679f6ddf",
   "metadata": {},
   "source": [
    "##### c'è un problema con la rimozione della colonna \"legs\", utilizzo di seguito un escamotage"
   ]
  },
  {
   "cell_type": "code",
   "execution_count": null,
   "id": "fbe0d4a6",
   "metadata": {},
   "outputs": [],
   "source": [
    "column_numbers = [x for x in range(db_zoo_noclass.shape[1])] # lista degli indici di colonna"
   ]
  },
  {
   "cell_type": "code",
   "execution_count": null,
   "id": "ef0aa575",
   "metadata": {},
   "outputs": [],
   "source": [
    "column_numbers # solo per check"
   ]
  },
  {
   "cell_type": "code",
   "execution_count": null,
   "id": "a369161e",
   "metadata": {},
   "outputs": [],
   "source": [
    "column_numbers.remove(13) # rimuovo indice di colonna 13"
   ]
  },
  {
   "cell_type": "code",
   "execution_count": null,
   "id": "b15460dc",
   "metadata": {},
   "outputs": [],
   "source": [
    "column_numbers # solo per check"
   ]
  },
  {
   "cell_type": "code",
   "execution_count": null,
   "id": "41622023",
   "metadata": {},
   "outputs": [],
   "source": [
    "db_zoo_noclass_ohelegs = db_zoo_noclass.iloc[:, column_numbers] # restituisce tutte le colonne tranne la 13"
   ]
  },
  {
   "cell_type": "code",
   "execution_count": null,
   "id": "5f0458a6",
   "metadata": {},
   "outputs": [],
   "source": [
    "db_zoo_noclass_ohelegs.info() # solo per check"
   ]
  },
  {
   "cell_type": "code",
   "execution_count": null,
   "id": "80c3b7de",
   "metadata": {},
   "outputs": [],
   "source": [
    "db_zoo_noclass_ohelegs # solo per check"
   ]
  },
  {
   "cell_type": "code",
   "execution_count": null,
   "id": "37d34317",
   "metadata": {},
   "outputs": [],
   "source": [
    "db_zoo_noclass_ohelegs.to_csv('db_zoo_noclass_ohelegs.csv', index=False) # esporto il file in formato csv"
   ]
  },
  {
   "cell_type": "code",
   "execution_count": null,
   "id": "e5857103",
   "metadata": {},
   "outputs": [],
   "source": [
    "db_zoo_noclass_ohelegs_noanimal = db_zoo_noclass_ohelegs.drop('animal_name', axis=1)"
   ]
  },
  {
   "cell_type": "code",
   "execution_count": null,
   "id": "91588e11",
   "metadata": {},
   "outputs": [],
   "source": [
    "db_zoo_noclass_ohelegs_noanimal # solo per check"
   ]
  },
  {
   "cell_type": "code",
   "execution_count": null,
   "id": "8fe28054",
   "metadata": {},
   "outputs": [],
   "source": [
    "db_zoo_noclass_ohelegs_noanimal.to_csv('db_zoo_noclass_ohelegs_noanimal.csv', index=False) # esporto il file in formato csv"
   ]
  }
 ],
 "metadata": {
  "kernelspec": {
   "display_name": "Python 3 (ipykernel)",
   "language": "python",
   "name": "python3"
  },
  "language_info": {
   "codemirror_mode": {
    "name": "ipython",
    "version": 3
   },
   "file_extension": ".py",
   "mimetype": "text/x-python",
   "name": "python",
   "nbconvert_exporter": "python",
   "pygments_lexer": "ipython3",
   "version": "3.9.13"
  }
 },
 "nbformat": 4,
 "nbformat_minor": 5
}
