{
 "cells": [
  {
   "cell_type": "code",
   "execution_count": null,
   "id": "1da3737c",
   "metadata": {},
   "outputs": [],
   "source": [
    "#IDEE DA SVILLUPPARE\n",
    "#1.Crea nuova colonna dataset in cui ogni riga c'è il numero di lettere del nome dell'animale\n",
    "#2.Trova altri dati da aggiungere/dataset più grande o simile\n",
    "#3.Applica kmeans del prof\n",
    "#4.Guarda medium, datafish e altri\n",
    "#5.Trovare algoritmi più adatti a dataset binari"
   ]
  },
  {
   "cell_type": "markdown",
   "id": "28ef6ea2",
   "metadata": {},
   "source": [
    "<div class=\"alert alert-info\" style=\"background-color:DodgerBlue; color:white; padding:0px 5px; border-radius:15px; opacity: 0.8; border-color:DodgerBlue\">\n",
    "    <h2 style='margin:10px 5px'> Progetto Finale - Programming with Python \n",
    "    </h2>\n",
    "</div>"
   ]
  },
  {
   "cell_type": "markdown",
   "id": "651c8707",
   "metadata": {},
   "source": [
    "<div class=\"alert alert-info\" style=\"background-color:orange; color:black; padding:0px 5px; border-radius:15px; border-color:orange\">\n",
    "    <h2 style='margin:10px 5px; font-size:14px; font-style:italic; '> Studenti: Laura Proto & Giacomo de Gioia </h2>\n",
    "</div>"
   ]
  },
  {
   "cell_type": "markdown",
   "id": "fed5f075",
   "metadata": {},
   "source": [
    "## Traccia numero 6 - I mammiferi depongono uova?\n",
    "### I dataset Zoo fornisce una serie di dati relativi a diverse specie animali al fine di classificarle in 7 diverse classi, ovvero mammiferi, uccelli, rettili, pesci, anfibi, insetti e invertebrati.\n",
    "Seguendo un approccio non supervisionato, ovvero senza osservare la classe di ogni specie animale, il progetto mira a confrontare le diverse specie e raggruparle utilizzando diversi algoritmi di clustering.\n",
    "Confrontando poi il risultato di ogni algoritmo, si intende mostrare quale algoritmo di clustering approssimi meglio le classi fornite dal dataset.\n",
    "Si richiede pertanto non solo di definire una metodologia per confrontare i risulati del clustering con la classificazione attesa, ma anche di descrivere in modo sintetico le caratteristiche distintive di ciascun cluster di specie prodotto dall'algoritmo oggetto della valutazione.\n",
    "\n",
    "https://www.kaggle.com/uciml/zoo-animal-classification\n",
    "\n",
    "https://scikit-learn.org/stable/modules/clustering.html\n",
    "\n"
   ]
  },
  {
   "cell_type": "markdown",
   "id": "51c2e590",
   "metadata": {},
   "source": [
    "# ---------ATTENZIONE: Il Codice si RIPETE!! Creare def------------"
   ]
  },
  {
   "cell_type": "markdown",
   "id": "8a52b420",
   "metadata": {},
   "source": [
    "# 1. Analisi esplorativa dei dati\n",
    "\n",
    "https://www.intelligenzaartificialeitalia.net/post/analisi-esplorativa-dati-con-python-analisi-esplorativa-dei-dati-eda-esempio-pratico"
   ]
  },
  {
   "cell_type": "markdown",
   "id": "4a9222c5",
   "metadata": {},
   "source": [
    "(Orrendo! Mantenere i comandi install mettendoli, a parte, in qualche modo)"
   ]
  },
  {
   "cell_type": "code",
   "execution_count": null,
   "id": "04487e9a",
   "metadata": {},
   "outputs": [],
   "source": [
    "pip install numpy"
   ]
  },
  {
   "cell_type": "code",
   "execution_count": null,
   "id": "1ab2a920",
   "metadata": {},
   "outputs": [],
   "source": [
    "pip install pandas"
   ]
  },
  {
   "cell_type": "code",
   "execution_count": null,
   "id": "d5d950ab",
   "metadata": {},
   "outputs": [],
   "source": [
    "pip install seaborn"
   ]
  },
  {
   "cell_type": "code",
   "execution_count": null,
   "id": "3fa40dbb",
   "metadata": {},
   "outputs": [],
   "source": [
    "pip install matplotlib"
   ]
  },
  {
   "cell_type": "code",
   "execution_count": null,
   "id": "ec881de9",
   "metadata": {},
   "outputs": [],
   "source": [
    "pip install plotly_express"
   ]
  },
  {
   "cell_type": "code",
   "execution_count": null,
   "id": "d77fd4a4",
   "metadata": {},
   "outputs": [],
   "source": [
    "pip install squarify"
   ]
  },
  {
   "cell_type": "code",
   "execution_count": null,
   "id": "e7aa9ef7",
   "metadata": {},
   "outputs": [],
   "source": [
    "pip install -U scikit-learn"
   ]
  },
  {
   "cell_type": "code",
   "execution_count": null,
   "id": "fb175eb8",
   "metadata": {},
   "outputs": [],
   "source": [
    "pip install scipy"
   ]
  },
  {
   "cell_type": "code",
   "execution_count": null,
   "id": "4b0ea951",
   "metadata": {},
   "outputs": [],
   "source": [
    "import numpy as np\n",
    "import pandas as pd\n",
    "import seaborn as sns\n",
    "import matplotlib.pyplot as plt\n",
    "import plotly.express as px\n",
    "import squarify \n",
    "import sklearn\n",
    "import scipy as sp"
   ]
  },
  {
   "cell_type": "markdown",
   "id": "75fb0f90",
   "metadata": {},
   "source": [
    "### 1a. Analisi del file class.csv"
   ]
  },
  {
   "cell_type": "code",
   "execution_count": null,
   "id": "43bd28e3",
   "metadata": {},
   "outputs": [],
   "source": [
    "#Read and search informations about columns and data\n",
    "df_class = pd.read_csv('class.csv',sep=',')\n",
    "df_class.info()"
   ]
  },
  {
   "cell_type": "code",
   "execution_count": null,
   "id": "501be63f",
   "metadata": {},
   "outputs": [],
   "source": [
    "#Search numers of rows and columns\n",
    "print(\"File class.csv \\nNumero di osservazioni (righe) x caratteristiche (colonne):\", df_class.shape)"
   ]
  },
  {
   "cell_type": "code",
   "execution_count": null,
   "id": "57b8facf",
   "metadata": {},
   "outputs": [],
   "source": [
    "#Look entire Dataset\n",
    "df_class"
   ]
  },
  {
   "cell_type": "code",
   "execution_count": null,
   "id": "3989601c",
   "metadata": {},
   "outputs": [],
   "source": [
    "#Summary statistics\n",
    "df_class.describe()\n",
    "\n",
    "#----------------Chiedi commenti a Giacomo--------------#"
   ]
  },
  {
   "cell_type": "code",
   "execution_count": null,
   "id": "691bc860",
   "metadata": {},
   "outputs": [],
   "source": [
    "#See the correlation\n",
    "sns.pairplot(df_class)"
   ]
  },
  {
   "cell_type": "code",
   "execution_count": null,
   "id": "3e4dfe89",
   "metadata": {},
   "outputs": [],
   "source": [
    "#Import data\n",
    "data = pd.read_csv(\"class.csv\")\n",
    "corr =  df_class.corr() #osx need (numeric_only=True)\n",
    "filename = \"class.csv\"\n",
    "\n",
    "#Print data\n",
    "print(data.corr()) #osx need (numeric_only=True)\n",
    "\n",
    "#Create the graphic \n",
    "fig, ax = plt.subplots(figsize=(7, 4))\n",
    "dataplot = sns.heatmap(data.corr(), cmap=\"viridis\", fmt='.2f', annot=True, annot_kws={'size': 17}, linewidths=.35) #osx need (numeric_only=True)\n",
    "plt.title(f\"Correlation Matrix for {filename}\", fontsize=15)"
   ]
  },
  {
   "cell_type": "code",
   "execution_count": null,
   "id": "59d31c0d",
   "metadata": {},
   "outputs": [],
   "source": [
    "#Treemap of animal distribution\n",
    "animals = df_class\n",
    "fig = px.treemap(animals, path=['Class_Type'], values='Number_Of_Animal_Species_In_Class')\n",
    "fig.update_traces(root_color=\"lightgrey\", textinfo=\"label+value\")\n",
    "fig.update_layout(title_text='Animal Class Types Distribution', title_x=0.5, title_font=dict(size=25))\n",
    "fig.show()"
   ]
  },
  {
   "cell_type": "markdown",
   "id": "3af66ffe",
   "metadata": {},
   "source": [
    "### 1b. Analisi del file zoo.csv"
   ]
  },
  {
   "cell_type": "code",
   "execution_count": null,
   "id": "5010d265",
   "metadata": {},
   "outputs": [],
   "source": [
    "#Read and search informations about columns and data\n",
    "df_zoo = pd.read_csv('zoo.csv',sep=',')\n",
    "df_zoo.info()"
   ]
  },
  {
   "cell_type": "code",
   "execution_count": null,
   "id": "e9419df2",
   "metadata": {},
   "outputs": [],
   "source": [
    "#Search numers of rows and columns\n",
    "print(\"File zoo.csv \\nNumero di osservazioni (righe) x caratteristiche (colonne):\", df_zoo.shape)"
   ]
  },
  {
   "cell_type": "code",
   "execution_count": null,
   "id": "13e28bf8",
   "metadata": {
    "scrolled": true
   },
   "outputs": [],
   "source": [
    "#Look first dataset's rows \n",
    "df_zoo.head(7)"
   ]
  },
  {
   "cell_type": "code",
   "execution_count": null,
   "id": "74a83d4c",
   "metadata": {},
   "outputs": [],
   "source": [
    "#Summary statistics\n",
    "df_zoo.describe()\n",
    "\n",
    "#----------------Chiedi commenti a Giacomo--------------#"
   ]
  },
  {
   "cell_type": "code",
   "execution_count": null,
   "id": "b00f7a75",
   "metadata": {},
   "outputs": [],
   "source": [
    "#Import data\n",
    "data = pd.read_csv(\"zoo.csv\")\n",
    "corr =  data.corr() #osx need (numeric_only=True)\n",
    "filename = \"zoo.csv\"\n",
    "\n",
    "#Print data\n",
    "#print(data.corr())\n",
    "\n",
    "#Create the graphic \n",
    "fig, ax = plt.subplots(figsize=(9, 6))\n",
    "\n",
    "#Create the mask to NOT have graphic redundancy\n",
    "mask = np.triu(np.ones_like(corr, dtype=bool), k = 1)\n",
    "\n",
    "#Create correlation palette and heat map\n",
    "cmap = sns.color_palette(\"Spectral_r\", as_cmap=True)\n",
    "dataplot = sns.heatmap(corr, mask=mask, center=0, annot=True, annot_kws={'size': 8}, fmt='.1f', cmap=cmap, linewidths=.35)\n",
    "plt.title(f\"Correlation Matrix for {filename}\", fontsize=15)\n",
    "plt.show()"
   ]
  },
  {
   "cell_type": "code",
   "execution_count": null,
   "id": "7146e7c6",
   "metadata": {},
   "outputs": [],
   "source": [
    "#Togliere ultima colonna class_type\n",
    "#Questo grafico si legge guardando la gradazione di colore: \n",
    "#l'addove il colore è più scuro, la correlazione è più alta!\n",
    "#Esempio: nella prima colonna, eggs, ha forte correlaizone con hair"
   ]
  },
  {
   "cell_type": "code",
   "execution_count": null,
   "id": "d6d8072c",
   "metadata": {},
   "outputs": [],
   "source": []
  },
  {
   "cell_type": "markdown",
   "id": "ea44abe4",
   "metadata": {},
   "source": [
    "# 2. Applico algoritmi di clustering (lezione del 14 febbraio 2:00:00)"
   ]
  },
  {
   "cell_type": "markdown",
   "id": "a72cb4b8",
   "metadata": {},
   "source": [
    "## 2a. L'algoritmo KMeans ------------Esempio da capire\n",
    "\n",
    "https://en.wikipedia.org/wiki/K-means_clustering"
   ]
  },
  {
   "cell_type": "code",
   "execution_count": null,
   "id": "25fcc4ae",
   "metadata": {},
   "outputs": [],
   "source": [
    "from sklearn.cluster import KMeans"
   ]
  },
  {
   "cell_type": "code",
   "execution_count": null,
   "id": "5a027b0f",
   "metadata": {},
   "outputs": [],
   "source": [
    "vals = df_zoo.drop(['animal_name'],axis=1).values \n",
    "init = 10\n",
    "inertia = []\n",
    "for n in range(1 , 11):\n",
    "    clust = KMeans(n_clusters = n, n_init =10)\n",
    "    clust.fit(vals)\n",
    "    inertia.append(clust.inertia_)"
   ]
  },
  {
   "cell_type": "code",
   "execution_count": null,
   "id": "635f55c9",
   "metadata": {},
   "outputs": [],
   "source": [
    "plt.figure(1 , figsize = (15 ,6))\n",
    "plt.plot(np.arange(1 , 11) , inertia , 'o')\n",
    "plt.plot(np.arange(1 , 11) , inertia , '-' , alpha = 0.5)\n",
    "plt.xlabel('Number of Clusters') , plt.ylabel('Inertia')\n",
    "plt.title(f\"Titolo\", fontsize=15)\n",
    "plt.show()"
   ]
  },
  {
   "cell_type": "code",
   "execution_count": null,
   "id": "6e48d1bf",
   "metadata": {},
   "outputs": [],
   "source": [
    "zoo_cluster = KMeans(n_clusters = 3,init='k-means++', n_init = 10 ,max_iter=300, tol=0.0001,  random_state= 111  , algorithm='elkan')\n",
    "zoo_cluster.fit(vals)\n",
    "labs = zoo_cluster.labels_\n",
    "centroids = zoo_cluster.cluster_centers_"
   ]
  },
  {
   "cell_type": "code",
   "execution_count": null,
   "id": "d4a3299e",
   "metadata": {},
   "outputs": [],
   "source": [
    "import plotly as py\n",
    "import plotly.graph_objs as go\n",
    "\n",
    "df_zoo['label'] =  labs\n",
    "trace = go.Scatter3d(\n",
    "    x= df_zoo['predator'],\n",
    "    y= df_zoo['class_type'],\n",
    "    z= df_zoo['legs'],\n",
    "    mode='markers',\n",
    "     marker=dict(\n",
    "        color = df_zoo['label'], \n",
    "        size= 5,\n",
    "        line=dict(\n",
    "            color= df_zoo['label'],\n",
    "            width= 12\n",
    "        ),\n",
    "        opacity=0.8\n",
    "     )\n",
    ")\n",
    "data = [trace]\n",
    "layout = go.Layout(\n",
    "    title= 'Clusters',\n",
    "    scene = dict(\n",
    "            xaxis = dict(title  = 'predator'),\n",
    "            yaxis = dict(title  = 'class'),\n",
    "            zaxis = dict(title  = 'legs')\n",
    "        )\n",
    ")\n",
    "fig = go.Figure(data=data, layout=layout)\n",
    "py.offline.iplot(fig)"
   ]
  },
  {
   "cell_type": "code",
   "execution_count": null,
   "id": "a3c5789e",
   "metadata": {},
   "outputs": [],
   "source": []
  }
 ],
 "metadata": {
  "kernelspec": {
   "display_name": "Python 3 (ipykernel)",
   "language": "python",
   "name": "python3"
  },
  "language_info": {
   "codemirror_mode": {
    "name": "ipython",
    "version": 3
   },
   "file_extension": ".py",
   "mimetype": "text/x-python",
   "name": "python",
   "nbconvert_exporter": "python",
   "pygments_lexer": "ipython3",
   "version": "3.8.16"
  }
 },
 "nbformat": 4,
 "nbformat_minor": 5
}
